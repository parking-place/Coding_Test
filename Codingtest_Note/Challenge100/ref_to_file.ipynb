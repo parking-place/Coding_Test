{
 "cells": [
  {
   "cell_type": "code",
   "execution_count": 6,
   "metadata": {},
   "outputs": [],
   "source": [
    "n, m = 3, 10"
   ]
  },
  {
   "cell_type": "code",
   "execution_count": 7,
   "metadata": {},
   "outputs": [
    {
     "name": "stdout",
     "output_type": "stream",
     "text": [
      "challenge_003.ipynb created successfully!\n",
      "challenge_004.ipynb created successfully!\n",
      "challenge_005.ipynb created successfully!\n",
      "challenge_006.ipynb already exists, skipping...\n",
      "challenge_007.ipynb already exists, skipping...\n",
      "challenge_008.ipynb already exists, skipping...\n",
      "challenge_009.ipynb already exists, skipping...\n",
      "challenge_010.ipynb already exists, skipping...\n"
     ]
    }
   ],
   "source": [
    "import os\n",
    "import shutil\n",
    "\n",
    "src_file = 'challenge_ref.ipynb'\n",
    "dst_folder = './'\n",
    "\n",
    "for i in range(n, m+1):\n",
    "    dst_file = f'challenge_{i:03d}.ipynb'\n",
    "    if os.path.exists(dst_file):\n",
    "        print(f'{dst_file} already exists, skipping...')\n",
    "    else:\n",
    "        shutil.copy(src_file, os.path.join(dst_folder, dst_file))\n",
    "        print(f'{dst_file} created successfully!')\n"
   ]
  },
  {
   "cell_type": "code",
   "execution_count": 8,
   "metadata": {},
   "outputs": [
    {
     "name": "stdout",
     "output_type": "stream",
     "text": [
      "challenge_003.ipynb 수정 완료!\n",
      "challenge_004.ipynb 수정 완료!\n",
      "challenge_005.ipynb 수정 완료!\n",
      "challenge_006.ipynb 수정 완료!\n",
      "challenge_007.ipynb 수정 완료!\n",
      "challenge_008.ipynb 수정 완료!\n",
      "challenge_009.ipynb 수정 완료!\n",
      "challenge_010.ipynb 수정 완료!\n"
     ]
    }
   ],
   "source": [
    "import json\n",
    "\n",
    "for i in range(n, m+1):\n",
    "    file_name = f'challenge_{i:03d}.ipynb'\n",
    "    with open(file_name, 'r') as f:\n",
    "        data = json.load(f)\n",
    "\n",
    "    data['cells'][0]['source'][0] = data['cells'][0]['source'][0].format(i)\n",
    "\n",
    "    with open(file_name, 'w') as f:\n",
    "        json.dump(data, f)\n",
    "\n",
    "    print(f'{file_name} 수정 완료!')\n"
   ]
  }
 ],
 "metadata": {
  "kernelspec": {
   "display_name": "ml",
   "language": "python",
   "name": "python3"
  },
  "language_info": {
   "codemirror_mode": {
    "name": "ipython",
    "version": 3
   },
   "file_extension": ".py",
   "mimetype": "text/x-python",
   "name": "python",
   "nbconvert_exporter": "python",
   "pygments_lexer": "ipython3",
   "version": "3.10.11"
  },
  "orig_nbformat": 4
 },
 "nbformat": 4,
 "nbformat_minor": 2
}
