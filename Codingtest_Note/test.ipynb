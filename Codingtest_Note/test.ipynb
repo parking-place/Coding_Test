{
 "cells": [
  {
   "cell_type": "code",
   "execution_count": 8,
   "metadata": {},
   "outputs": [
    {
     "name": "stdout",
     "output_type": "stream",
     "text": [
      "[[5, 4, 5, 5, 1],\n",
      " [5, 1, 5, 5, 4],\n",
      " [5, 5, 4, 5, 5],\n",
      " [5, 3, 5, 5, 5],\n",
      " [5, 3, 4, 5, 3],\n",
      " [3, 4, 5, 5, 4],\n",
      " [4, 5, 3, 5, 3],\n",
      " [3, 5, 5, 4, 4],\n",
      " [5, 4, 5, 4, 4],\n",
      " [5, 4, 5, 3, 3]]\n"
     ]
    }
   ],
   "source": [
    "import random\n",
    "from pprint import pprint\n",
    "score = [1,2,3,4,5]\n",
    "\n",
    "problom_count = 5\n",
    "\n",
    "target_score = problom_count * 0.8 * 5\n",
    "\n",
    "target_count = 10\n",
    "\n",
    "result = []\n",
    "\n",
    "is_full = False\n",
    "\n",
    "while not(is_full):\n",
    "    scores = [ random.choice(score) for _ in range(5) ]\n",
    "    \n",
    "    if sum(scores) >= target_score:\n",
    "        result.append(scores)\n",
    "    \n",
    "    if len(result) == target_count:\n",
    "        is_full = True\n",
    "    \n",
    "pprint(result)"
   ]
  }
 ],
 "metadata": {
  "kernelspec": {
   "display_name": "ml",
   "language": "python",
   "name": "python3"
  },
  "language_info": {
   "codemirror_mode": {
    "name": "ipython",
    "version": 3
   },
   "file_extension": ".py",
   "mimetype": "text/x-python",
   "name": "python",
   "nbconvert_exporter": "python",
   "pygments_lexer": "ipython3",
   "version": "3.10.11"
  },
  "orig_nbformat": 4
 },
 "nbformat": 4,
 "nbformat_minor": 2
}
