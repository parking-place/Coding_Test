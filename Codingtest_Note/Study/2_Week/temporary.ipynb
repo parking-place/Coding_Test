{
 "cells": [
  {
   "cell_type": "code",
   "execution_count": 58,
   "metadata": {},
   "outputs": [],
   "source": [
    "def count_one_to_x(n, x):\n",
    "    count = 0\n",
    "    # x가 0이라면, 0을 반환\n",
    "    if x == 0: return 0\n",
    "        \n",
    "    # 5**(n-1) -> n-1차 유사 칸토어 비트열의 자릿수\n",
    "    # n차 유사 칸토어 비트열은 4개의 n-1차 유사 칸토어 비트열과 0들로 이루어져 있다.\n",
    "    # 몫 = x이전까지 n-1차 비트열의 개수\n",
    "    # 나머지 = n-1차 내에서의 x의 위치\n",
    "    q, r = divmod(x, 5**(n-1))\n",
    "    \n",
    "    # 몫이 0이라면, n-1차 안에서 다시 구해야함.\n",
    "    if q == 0: return count_one_to_x(n-1, x)\n",
    "    \n",
    "    # n_m1 = n-1차 비트열 하나에서 1의 갯수\n",
    "    n_m1 = 4 ** ( n - 1 )\n",
    "    # n-1 비트열에서 1의 갯수 * n-1 비트열의 갯수\n",
    "    count = n_m1 * q\n",
    "    # 몫이 3보다 크다면 0만 있는 비트열이 포함되어 있으므로, n-1 비트열의 1 갯수만큼 빼준다.\n",
    "    if q >= 3: count -= n_m1\n",
    "    \n",
    "    # 만일 몫이 2라면,\n",
    "        # x는 n-1차 비트열중 0이 있는 위치에 위치하므로, 더 구할 필요는 없음.\n",
    "    # 만일 나머지가 0이라면,\n",
    "        # 해당 x가 n-1차 비트열의 끝에 위치한다는 뜻이므로, 더 구할 필요는 없음.\n",
    "    if q == 2 or r == 0: return count\n",
    "    \n",
    "    # 현재까지 구한 1의 갯수 + n-1차 비트열에서 x의 위치까지의 1의 갯수\n",
    "    return count + count_one_to_x(n-1, r)\n",
    "\n",
    "\n",
    "def solution(n, l, r):\n",
    "    \n",
    "    answer = count_one_to_x(n, r) - count_one_to_x(n, l-1)\n",
    "    \n",
    "    return answer"
   ]
  },
  {
   "cell_type": "code",
   "execution_count": 59,
   "metadata": {},
   "outputs": [
    {
     "data": {
      "text/plain": [
       "1099511627775"
      ]
     },
     "execution_count": 59,
     "metadata": {},
     "output_type": "execute_result"
    }
   ],
   "source": [
    "count_one_to_x(20, (5**20)-1)"
   ]
  },
  {
   "cell_type": "code",
   "execution_count": 60,
   "metadata": {},
   "outputs": [
    {
     "data": {
      "text/plain": [
       "1099511627775"
      ]
     },
     "execution_count": 60,
     "metadata": {},
     "output_type": "execute_result"
    }
   ],
   "source": [
    "solution(20, 1, (5**20)-1)"
   ]
  },
  {
   "cell_type": "code",
   "execution_count": 39,
   "metadata": {},
   "outputs": [
    {
     "data": {
      "text/plain": [
       "0.2"
      ]
     },
     "execution_count": 39,
     "metadata": {},
     "output_type": "execute_result"
    }
   ],
   "source": [
    "5**(0-1)"
   ]
  },
  {
   "attachments": {},
   "cell_type": "markdown",
   "metadata": {},
   "source": [
    "# 성공\n",
    "- 수학적인 규칙을 찾는것이 어려웠음.\n",
    "- 규칙을 찾으니 난이도가 확 떨어짐.\n",
    "- 재귀를 이용해 풀었음.\n",
    "- 재귀의 깊이가 20이상 가지 않기떄문에 안전."
   ]
  },
  {
   "attachments": {},
   "cell_type": "markdown",
   "metadata": {},
   "source": [
    "# 3xN 타일링\n",
    "[문제 링크](https://school.programmers.co.kr/learn/courses/30/lessons/12902)"
   ]
  },
  {
   "cell_type": "code",
   "execution_count": 63,
   "metadata": {},
   "outputs": [],
   "source": [
    "def solution(n):\n",
    "    answer = 3\n",
    "    \n",
    "    n = n//2\n",
    "    \n",
    "    for _ in range(n-1):\n",
    "        answer = answer * 3 + 2\n",
    "    \n",
    "    answer = answer % 1_000_000_007\n",
    "    \n",
    "    return answer"
   ]
  },
  {
   "cell_type": "code",
   "execution_count": 66,
   "metadata": {},
   "outputs": [
    {
     "data": {
      "text/plain": [
       "11"
      ]
     },
     "execution_count": 66,
     "metadata": {},
     "output_type": "execute_result"
    }
   ],
   "source": [
    "solution(4)"
   ]
  },
  {
   "cell_type": "code",
   "execution_count": 67,
   "metadata": {},
   "outputs": [
    {
     "ename": "TypeError",
     "evalue": "'str' object does not support item assignment",
     "output_type": "error",
     "traceback": [
      "\u001b[1;31m---------------------------------------------------------------------------\u001b[0m",
      "\u001b[1;31mTypeError\u001b[0m                                 Traceback (most recent call last)",
      "Cell \u001b[1;32mIn[67], line 1\u001b[0m\n\u001b[1;32m----> 1\u001b[0m \u001b[39m'\u001b[39m\u001b[39masdfg\u001b[39m\u001b[39m'\u001b[39m[\u001b[39m3\u001b[39m]\u001b[39m=\u001b[39m\u001b[39m'\u001b[39m\u001b[39m1\u001b[39m\u001b[39m'\u001b[39m\n",
      "\u001b[1;31mTypeError\u001b[0m: 'str' object does not support item assignment"
     ]
    }
   ],
   "source": []
  },
  {
   "attachments": {},
   "cell_type": "markdown",
   "metadata": {},
   "source": [
    "# 리코챗 로봇\n",
    "[문제 링크](https://school.programmers.co.kr/learn/courses/30/lessons/169199)"
   ]
  },
  {
   "cell_type": "code",
   "execution_count": 22,
   "metadata": {},
   "outputs": [],
   "source": [
    "# bfs에 사용할 큐\n",
    "qu_l = []\n",
    "# 맵을 저장할 리스트\n",
    "map_l = []\n",
    "\n",
    "# 미끄러짐 이동 함수 px, nx, py, ny\n",
    "def go_px(x,y):\n",
    "    global map_l\n",
    "    while True:\n",
    "        if x == len(map_l)-1: break\n",
    "        if map_l[x+1][y] == 'D': break\n",
    "        x += 1\n",
    "    return x, y\n",
    "\n",
    "def go_nx(x,y):\n",
    "    global map_l\n",
    "    while True:\n",
    "        if x == 0: break\n",
    "        if map_l[x-1][y] == 'D': break\n",
    "        x -= 1\n",
    "    return x, y\n",
    "\n",
    "def go_py(x,y):\n",
    "    global map_l\n",
    "    while True:\n",
    "        if y == len(map_l[x])-1: break\n",
    "        if map_l[x][y+1] == 'D': break\n",
    "        y += 1\n",
    "    return x, y\n",
    "\n",
    "def go_ny(x,y):\n",
    "    global map_l\n",
    "    while True:\n",
    "        if y == 0: break\n",
    "        if map_l[x][y-1] == 'D': break\n",
    "        y -= 1\n",
    "    return x, y\n",
    "\n",
    "def post_move(_x,_y,x,y) -> bool:\n",
    "    global qu_l, map_l\n",
    "    # 이동한 위치가 .이라면, 원래 위치 + 1을 저장\n",
    "    if map_l[_x][_y] == '.': \n",
    "        map_l[_x][_y] = map_l[x][y] + 1\n",
    "        qu_l.append([_x,_y])\n",
    "    # 이동한 위치가 G라면, True를 반환\n",
    "    elif map_l[_x][_y] == 'G':\n",
    "        map_l[_x][_y] = map_l[x][y] + 1\n",
    "        return True\n",
    "\n",
    "\n",
    "def solution(board):\n",
    "    global qu_l, map_l\n",
    "    \n",
    "    start = [0, 0]\n",
    "    \n",
    "    for i in range(len(board)):\n",
    "        # 맵을 리스트형식으로 변환\n",
    "        # 시작점과 도착점의 좌표를 저장\n",
    "        board[i] = list(board[i])\n",
    "        if 'R' in board[i]:\n",
    "            start[0] = i\n",
    "            start[1] = board[i].index('R')\n",
    "    \n",
    "    map_l = board\n",
    "    \n",
    "    # 현재 위치를 큐에 저장\n",
    "    qu_l.append(start)\n",
    "    # 현재 위치를 방문했다고 표시\n",
    "    map_l[start[0]][start[1]] = 0\n",
    "\n",
    "    while True:\n",
    "        # print(*map_l, sep='\\n')\n",
    "        # print(qu_l)\n",
    "        # 큐가 비어있지만 도착점에 도착하지 못했다면, -1을 반환\n",
    "        if len(qu_l) == 0: return -1\n",
    "\n",
    "        # 현재 위치를 큐에서 꺼냄\n",
    "        c_p = qu_l.pop(0)\n",
    "        \n",
    "        # 현재 위치에서 네방향 미끄러짐 이동\n",
    "        # 이동 후 처리는 post_move 함수에서 함\n",
    "        # post_move 함수는 도착점에 도착했다면 True를 반환\n",
    "        # 도착점에 도착했다면, 도착점의 값을 반환\n",
    "        _p = go_px(*c_p)\n",
    "        if post_move(*_p,*c_p): return map_l[_p[0]][_p[1]]\n",
    "        _p = go_nx(*c_p)\n",
    "        if post_move(*_p,*c_p): return map_l[_p[0]][_p[1]]\n",
    "        _p = go_py(*c_p)\n",
    "        if post_move(*_p,*c_p): return map_l[_p[0]][_p[1]]\n",
    "        _p = go_ny(*c_p)\n",
    "        if post_move(*_p,*c_p): return map_l[_p[0]][_p[1]]\n",
    "        \n",
    "    return \n"
   ]
  },
  {
   "cell_type": "code",
   "execution_count": 23,
   "metadata": {},
   "outputs": [
    {
     "data": {
      "text/plain": [
       "7"
      ]
     },
     "execution_count": 23,
     "metadata": {},
     "output_type": "execute_result"
    }
   ],
   "source": [
    "solution([\"...D..R\", \".D.G...\", \"....D.D\", \"D....D.\", \"..D....\"])"
   ]
  },
  {
   "cell_type": "code",
   "execution_count": 6,
   "metadata": {},
   "outputs": [
    {
     "data": {
      "text/plain": [
       "3"
      ]
     },
     "execution_count": 6,
     "metadata": {},
     "output_type": "execute_result"
    }
   ],
   "source": [
    "def a(b,c):\n",
    "    return b+c\n",
    "\n",
    "n = (1,2)\n",
    "a(*n)"
   ]
  },
  {
   "cell_type": "markdown",
   "metadata": {},
   "source": [
    "# 최고의 집합\n",
    "[문제 링크](https://school.programmers.co.kr/learn/courses/30/lessons/12938)"
   ]
  },
  {
   "cell_type": "code",
   "execution_count": 24,
   "metadata": {},
   "outputs": [],
   "source": [
    "def solution(n, s):\n",
    "    answer = []\n",
    "    q, r = divmod(s, n)\n",
    "    \n",
    "    if q == 0: return [-1]\n",
    "    \n",
    "    for _ in range(n):\n",
    "        answer.append(q)\n",
    "    for i in range(n-r, n):\n",
    "        answer[i] += 1\n",
    "    return answer"
   ]
  },
  {
   "cell_type": "code",
   "execution_count": null,
   "metadata": {},
   "outputs": [],
   "source": []
  }
 ],
 "metadata": {
  "kernelspec": {
   "display_name": "base",
   "language": "python",
   "name": "python3"
  },
  "language_info": {
   "codemirror_mode": {
    "name": "ipython",
    "version": 3
   },
   "file_extension": ".py",
   "mimetype": "text/x-python",
   "name": "python",
   "nbconvert_exporter": "python",
   "pygments_lexer": "ipython3",
   "version": "3.10.9"
  },
  "orig_nbformat": 4
 },
 "nbformat": 4,
 "nbformat_minor": 2
}
