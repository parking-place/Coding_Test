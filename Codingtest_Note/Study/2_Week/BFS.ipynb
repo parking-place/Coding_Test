{
 "cells": [
  {
   "attachments": {},
   "cell_type": "markdown",
   "metadata": {},
   "source": [
    "# BFS(Breadth-First Search)"
   ]
  },
  {
   "attachments": {},
   "cell_type": "markdown",
   "metadata": {},
   "source": [
    "## 너비 우선 탐색\n",
    "\n",
    "![img](https://upload.wikimedia.org/wikipedia/commons/thumb/3/33/Breadth-first-tree.svg/300px-Breadth-first-tree.svg.png)\n",
    "\n",
    "- 시작 노드를 방문한 후 시작 노드에 있는 인접한 모든 노드들을 우선 방문하는 방법.\n",
    "- 그림의 숫자는 각 노드의 방문 순서이다.\n",
    "- 시작 노드로부터의 거리 순서대로 방문한다.\n",
    "- 최단 경로 탐색에 이용 가능하다.\n",
    "- 자료구조중 Queue(큐)를 이용하여 구현 할 수 있다"
   ]
  },
  {
   "attachments": {},
   "cell_type": "markdown",
   "metadata": {},
   "source": [
    ">## Queue\n",
    ">   >Queue(큐)란, 선입선출형 자료구조이다.<br>\n",
    "자료를 꺼낼 때, 먼저 넣은 자료를 준다.<br>\n",
    "python에선 패키지를 import할 수도 있지만, <br>\n",
    "list의 메서드 append()와 pop()을 이용해도 쉽게 구현 가능하다.<br>"
   ]
  },
  {
   "cell_type": "code",
   "execution_count": 1,
   "metadata": {},
   "outputs": [
    {
     "name": "stdout",
     "output_type": "stream",
     "text": [
      "[]\n",
      "[1]\n",
      "[1, 2]\n",
      "[1, 2, 3]\n",
      "1 [2, 3]\n",
      "2 [3]\n"
     ]
    }
   ],
   "source": [
    "# Queue의 예시\n",
    "queue = []\n",
    "print(queue)\n",
    "\n",
    "# 삽입시 뒤쪽부터 삽입한다.\n",
    "queue.append(1)\n",
    "print(queue)\n",
    "queue.append(2)\n",
    "print(queue)\n",
    "queue.append(3)\n",
    "print(queue)\n",
    "\n",
    "# 꺼낼때는 앞쪽부터 꺼낸다.\n",
    "# pop(0)은 리스트의 첫번째 원소를 삭제하고, 내용물을 반환한다.\n",
    "m = queue.pop(0)\n",
    "print(m, queue)\n",
    "m = queue.pop(0)\n",
    "print(m, queue)"
   ]
  },
  {
   "attachments": {},
   "cell_type": "markdown",
   "metadata": {},
   "source": [
    "![image.gif](./imgs/img.gif)\n",
    "- 검정: 방문 처리한 노드 (이미 탐색한 노드는 다시 오지 않게 표시)\n",
    "- 회색: 큐에 삽입되어있는 노드\n",
    "- abcd... 순서대로 방문하며 검사한다."
   ]
  },
  {
   "cell_type": "code",
   "execution_count": null,
   "metadata": {},
   "outputs": [],
   "source": [
    "# BFS 예시 코드\n",
    "# 구체적인 구현은 아니고, 큐를 이용한 BFS의 예시 코드이다.\n",
    "\n",
    "while True:\n",
    "    if len(queue) == 0:                 # 큐가 비어있으면 종료\n",
    "        break\n",
    "    current_node = queue.pop(0)         # 큐가 비어있지 않으면 큐에서 pop()\n",
    "    \n",
    "    # 현재 노드의 인접 노드를 탐색\n",
    "    for next_node in graph[current_node]:\n",
    "        if not visited[next_node]:      # 만약 인접 노드가 방문하지 않았으면\n",
    "            queue.append(next_node)         # 인접 노드를 큐에 삽입\n",
    "            visited[next_node] = True       # 인접 노드를 방문처리"
   ]
  },
  {
   "attachments": {},
   "cell_type": "markdown",
   "metadata": {},
   "source": [
    "## 읽어볼 만한 BFS관련 글들\n",
    "\n",
    "1. [Hey Tech 블로그  - BFS 알고리즘 개념 및 실습](https://heytech.tistory.com/56)\n",
    "1. [위키피디아 - 너비 우선 탐색](https://ko.wikipedia.org/wiki/%EB%84%88%EB%B9%84_%EC%9A%B0%EC%84%A0_%ED%83%90%EC%83%89)\n",
    "1. [sukong velog - 너비우선탐색(BFS)](https://velog.io/@sukong/%EC%95%8C%EA%B3%A0%EB%A6%AC%EC%A6%98-%EA%B0%9C%EB%85%90-%EB%84%88%EB%B9%84%EC%9A%B0%EC%84%A0%ED%83%90%EC%83%89BFS-lp8zywtn)\n",
    "1. [공대사람 블로그 - BFS(너비우선탐색)](https://sarah950716.tistory.com/13)\n",
    "\n",
    "    >중요한건 BFS 알고리즘의 개념(가까운 거리의 장소부터 탐색) 이므로,<br>\n",
    "    >구현 방법의 세부사항은 다를 수 있음.\n",
    "\n",
    "    >그래프의 세부사항도 모두 달라도 상관없음.<br>\n",
    "    >어떻게 이동할지, 어떻게 방문 처리를 할지만 생각한다면,<br>\n",
    "    >2차원 리스트방식의 맵에서도 사용 가능함.\n"
   ]
  },
  {
   "attachments": {},
   "cell_type": "markdown",
   "metadata": {},
   "source": [
    "# 예시 1\n",
    "- 예시는 [스터디 코테 문제](./Question.ipynb)의 테스트 케이스를 기준으로 설명.\n",
    "- 코드 예시는 아니며, 작동 방식에 대한 이해를 돕기위함."
   ]
  },
  {
   "attachments": {},
   "cell_type": "markdown",
   "metadata": {},
   "source": [
    "![image.jpeg](./imgs/IMG_2888.jpeg)"
   ]
  },
  {
   "attachments": {},
   "cell_type": "markdown",
   "metadata": {},
   "source": [
    "![image.jpeg](./imgs/IMG_2889.jpeg)\n",
    "\n",
    "- 답은 2"
   ]
  },
  {
   "attachments": {},
   "cell_type": "markdown",
   "metadata": {},
   "source": [
    "# 예시 2"
   ]
  },
  {
   "attachments": {},
   "cell_type": "markdown",
   "metadata": {},
   "source": [
    "![image.jpeg](./imgs/IMG_2886.jpeg)"
   ]
  },
  {
   "attachments": {},
   "cell_type": "markdown",
   "metadata": {},
   "source": [
    "![image.jpeg](./imgs/IMG_2887.jpeg)\n",
    "\n",
    "- G까지 도착이 불가능 하기 때문에 답은 -1"
   ]
  },
  {
   "cell_type": "markdown",
   "metadata": {},
   "source": []
  }
 ],
 "metadata": {
  "kernelspec": {
   "display_name": "base",
   "language": "python",
   "name": "python3"
  },
  "language_info": {
   "codemirror_mode": {
    "name": "ipython",
    "version": 3
   },
   "file_extension": ".py",
   "mimetype": "text/x-python",
   "name": "python",
   "nbconvert_exporter": "python",
   "pygments_lexer": "ipython3",
   "version": "3.10.9"
  },
  "orig_nbformat": 4
 },
 "nbformat": 4,
 "nbformat_minor": 2
}
