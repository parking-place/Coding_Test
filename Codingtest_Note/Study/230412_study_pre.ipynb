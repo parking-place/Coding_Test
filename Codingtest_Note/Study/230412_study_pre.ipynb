{
 "cells": [
  {
   "attachments": {},
   "cell_type": "markdown",
   "metadata": {},
   "source": [
    "# 가져갈 문제"
   ]
  },
  {
   "attachments": {},
   "cell_type": "markdown",
   "metadata": {},
   "source": [
    "제목 : [과제 진행하기](https://school.programmers.co.kr/learn/courses/30/lessons/176962)"
   ]
  },
  {
   "cell_type": "code",
   "execution_count": 40,
   "metadata": {},
   "outputs": [],
   "source": [
    "# 시간 표시를 분으로 바꾸는 함수\n",
    "def hhmm_to_minutes(hhmm):\n",
    "    hh, mm = hhmm.split(':')\n",
    "    return int(hh) * 60 + int(mm)\n",
    "\n",
    "# 분을 시간 표시로 바꾸는 함수\n",
    "def min_to_hhmm(minutes):\n",
    "    hh = minutes // 60\n",
    "    mm = minutes % 60\n",
    "    return f'{hh:02d}:{mm:02d}'\n",
    "\n",
    "def doing_homework(plans, debug_mode = False):\n",
    "    # 가장 빠른 시작 시간\n",
    "    time = hhmm_to_minutes(plans[0][1])\n",
    "    proceeding ,completed, stopped = [], [], []\n",
    "    \n",
    "    while True:\n",
    "        # 멈춘 과제, 진행중인 과제, 계획된 과제가 모두 없으면 종료\n",
    "        if stopped == [] and proceeding == [] and plans == []:\n",
    "            break\n",
    "        \n",
    "        debug_line = []\n",
    "        debug_line.append(f'\\n시간: {min_to_hhmm(time)} -> ')\n",
    "        \n",
    "        #과제 종료 시간이 되면 완료된 과제에 추가\n",
    "        if proceeding != []:\n",
    "            if int(proceeding[0][2]) == 0:\n",
    "                debug_line.append(f'과제 {proceeding[0][0]} 완료 ')\n",
    "                completed.append(proceeding.pop(0))\n",
    "                \n",
    "        # 진행중인 과제가 없을 경우 멈춘 과제가 있으면 진행중인 과제로 추가\n",
    "        if proceeding == []:\n",
    "            if stopped != []:\n",
    "                debug_line.append(f'과제 {stopped[-1][0]} 재시작 {stopped[-1][2]}분 남음 ')\n",
    "                proceeding.append(stopped.pop(-1))\n",
    "        \n",
    "        # 과제 시작 시간이 되면 진행중인 과제에 추가\n",
    "        if plans != []:\n",
    "            if time == hhmm_to_minutes(plans[0][1]):\n",
    "                # 진행중이던 과제가 있으면 멈춘 과제에 추가\n",
    "                if proceeding != []:\n",
    "                    debug_line.append(f'과제 {proceeding[0][0]} 멈춤 {proceeding[-1][2]}분 남음 ')\n",
    "                    stopped.append(proceeding.pop(0))\n",
    "                debug_line.append(f'과제 {plans[0][0]} 시작 {plans[0][2]}분 남음 ')\n",
    "                proceeding.append(plans.pop(0))\n",
    "        \n",
    "        # 시간 증가\n",
    "        time += 1\n",
    "        # 진행중인 과제의 남은 시간 감소\n",
    "        if proceeding != []:\n",
    "            proceeding[0][2] = int(proceeding[0][2]) - 1\n",
    "        \n",
    "        if len(debug_line) > 1 and debug_mode:\n",
    "            print(*debug_line)\n",
    "            \n",
    "    return completed\n",
    "        \n",
    "\n",
    "def solution(plans, debug_mode = False):\n",
    "    answer = []\n",
    "    # 시작 시간이 빠른 순서대로 정렬\n",
    "    plans.sort(key=lambda x: x[1])\n",
    "    \n",
    "    complete = doing_homework(plans, debug_mode)\n",
    "    \n",
    "    # 과제 이름만 추출\n",
    "    answer = [ v[0] for v in complete ]\n",
    "    \n",
    "    return answer"
   ]
  },
  {
   "cell_type": "code",
   "execution_count": 42,
   "metadata": {},
   "outputs": [
    {
     "name": "stdout",
     "output_type": "stream",
     "text": [
      "\n",
      "시간: 11:40 ->  과제 korean 시작 30분 남음 \n",
      "\n",
      "시간: 12:10 ->  과제 korean 완료  과제 english 시작 20분 남음 \n",
      "\n",
      "시간: 12:30 ->  과제 english 완료  과제 math 시작 40분 남음 \n",
      "\n",
      "시간: 13:10 ->  과제 math 완료 \n",
      "['korean', 'english', 'math']\n",
      "['science', 'history', 'computer', 'music']\n",
      "['bbb', 'ccc', 'aaa']\n"
     ]
    }
   ],
   "source": [
    "# 테스트 케이스\n",
    "plans1 = [[\"korean\", \"11:40\", \"30\"], [\"english\", \"12:10\", \"20\"], [\"math\", \"12:30\", \"40\"]]\n",
    "plans2 = [[\"science\", \"12:40\", \"50\"], [\"music\", \"12:20\", \"40\"], [\"history\", \"14:00\", \"30\"], [\"computer\", \"12:30\", \"100\"]]\n",
    "plans3 = [[\"aaa\", \"12:00\", \"20\"], [\"bbb\", \"12:10\", \"30\"], [\"ccc\", \"12:40\", \"10\"]]\n",
    "\n",
    "print(solution(plans1, True))\n",
    "print(solution(plans2))\n",
    "print(solution(plans3))"
   ]
  },
  {
   "cell_type": "code",
   "execution_count": null,
   "metadata": {},
   "outputs": [],
   "source": []
  },
  {
   "cell_type": "code",
   "execution_count": null,
   "metadata": {},
   "outputs": [],
   "source": []
  },
  {
   "cell_type": "code",
   "execution_count": null,
   "metadata": {},
   "outputs": [],
   "source": []
  }
 ],
 "metadata": {
  "kernelspec": {
   "display_name": "base",
   "language": "python",
   "name": "python3"
  },
  "language_info": {
   "codemirror_mode": {
    "name": "ipython",
    "version": 3
   },
   "file_extension": ".py",
   "mimetype": "text/x-python",
   "name": "python",
   "nbconvert_exporter": "python",
   "pygments_lexer": "ipython3",
   "version": "3.10.9"
  },
  "orig_nbformat": 4
 },
 "nbformat": 4,
 "nbformat_minor": 2
}
