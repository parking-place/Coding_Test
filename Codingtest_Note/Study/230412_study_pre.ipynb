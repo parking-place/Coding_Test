{
 "cells": [
  {
   "attachments": {},
   "cell_type": "markdown",
   "metadata": {},
   "source": [
    "# 가져갈 문제"
   ]
  },
  {
   "attachments": {},
   "cell_type": "markdown",
   "metadata": {},
   "source": [
    "## 1번 문제\n",
    "\n",
    "제목 : [과제 진행하기](https://school.programmers.co.kr/learn/courses/30/lessons/176962)\n",
    "<BR>레벨 : 2"
   ]
  },
  {
   "cell_type": "code",
   "execution_count": 33,
   "metadata": {},
   "outputs": [],
   "source": [
    "# 시간 표시를 분으로 바꾸는 함수\n",
    "def hhmm_to_minutes(hhmm):\n",
    "    hh, mm = hhmm.split(':')\n",
    "    return int(hh) * 60 + int(mm)\n",
    "\n",
    "# 분을 시간 표시로 바꾸는 함수\n",
    "def min_to_hhmm(minutes):\n",
    "    hh = minutes // 60\n",
    "    mm = minutes % 60\n",
    "    return f'{hh:02d}:{mm:02d}'\n",
    "\n",
    "def doing_homework(plans, debug_mode = False):\n",
    "    # 가장 빠른 시작 시간\n",
    "    time = hhmm_to_minutes(plans[0][1])\n",
    "    proceeding ,completed, stopped = [], [], []\n",
    "    \n",
    "    while True:\n",
    "        # 멈춘 과제, 진행중인 과제, 계획된 과제가 모두 없으면 종료\n",
    "        if stopped == [] and proceeding == [] and plans == []:\n",
    "            break\n",
    "        \n",
    "        debug_line = []\n",
    "        debug_line.append(f'시간: {min_to_hhmm(time)} -> ')\n",
    "        \n",
    "        #과제 종료 시간이 되면 완료된 과제에 추가\n",
    "        if proceeding != []:\n",
    "            if int(proceeding[0][2]) == 0:\n",
    "                debug_line.append(f'과제 {proceeding[0][0]} 완료 ')\n",
    "                completed.append(proceeding.pop(0))\n",
    "                \n",
    "        # 진행중인 과제가 없을 경우 멈춘 과제가 있으면 진행중인 과제로 추가\n",
    "        if proceeding == []:\n",
    "            if stopped != []:\n",
    "                debug_line.append(f'과제 {stopped[-1][0]} 재시작 {stopped[-1][2]}분 남음 ')\n",
    "                proceeding.append(stopped.pop(-1))\n",
    "        \n",
    "        # 과제 시작 시간이 되면 진행중인 과제에 추가\n",
    "        if plans != []:\n",
    "            if time == hhmm_to_minutes(plans[0][1]):\n",
    "                # 진행중이던 과제가 있으면 멈춘 과제에 추가\n",
    "                if proceeding != []:\n",
    "                    debug_line.append(f'과제 {proceeding[0][0]} 멈춤 {proceeding[-1][2]}분 남음 ')\n",
    "                    stopped.append(proceeding.pop(0))\n",
    "                debug_line.append(f'과제 {plans[0][0]} 시작 {plans[0][2]}분 남음 ')\n",
    "                proceeding.append(plans.pop(0))\n",
    "        \n",
    "        # 시간 증가\n",
    "        time += 1\n",
    "        # 진행중인 과제의 남은 시간 감소\n",
    "        if proceeding != []:\n",
    "            proceeding[0][2] = int(proceeding[0][2]) - 1\n",
    "        \n",
    "        if len(debug_line) > 1 and debug_mode:\n",
    "            print(*debug_line)\n",
    "            \n",
    "    return completed\n",
    "        \n",
    "\n",
    "def solution(plans, debug_mode = False):\n",
    "    answer = []\n",
    "    # 시작 시간이 빠른 순서대로 정렬\n",
    "    plans.sort(key=lambda x: x[1])\n",
    "    \n",
    "    complete = doing_homework(plans, debug_mode)\n",
    "    \n",
    "    # 과제 이름만 추출\n",
    "    answer = [ v[0] for v in complete ]\n",
    "    \n",
    "    return answer"
   ]
  },
  {
   "cell_type": "code",
   "execution_count": 34,
   "metadata": {},
   "outputs": [
    {
     "name": "stdout",
     "output_type": "stream",
     "text": [
      "시간: 11:40 ->  과제 korean 시작 30분 남음 \n",
      "시간: 12:10 ->  과제 korean 완료  과제 english 시작 20분 남음 \n",
      "시간: 12:30 ->  과제 english 완료  과제 math 시작 40분 남음 \n",
      "시간: 13:10 ->  과제 math 완료 \n",
      "['korean', 'english', 'math']\n",
      "시간: 12:20 ->  과제 music 시작 40분 남음 \n",
      "시간: 12:30 ->  과제 music 멈춤 30분 남음  과제 computer 시작 100분 남음 \n",
      "시간: 12:40 ->  과제 computer 멈춤 90분 남음  과제 science 시작 50분 남음 \n",
      "시간: 13:30 ->  과제 science 완료  과제 computer 재시작 90분 남음 \n",
      "시간: 14:00 ->  과제 computer 멈춤 60분 남음  과제 history 시작 30분 남음 \n",
      "시간: 14:30 ->  과제 history 완료  과제 computer 재시작 60분 남음 \n",
      "시간: 15:30 ->  과제 computer 완료  과제 music 재시작 30분 남음 \n",
      "시간: 16:00 ->  과제 music 완료 \n",
      "['science', 'history', 'computer', 'music']\n",
      "시간: 12:00 ->  과제 aaa 시작 20분 남음 \n",
      "시간: 12:10 ->  과제 aaa 멈춤 10분 남음  과제 bbb 시작 30분 남음 \n",
      "시간: 12:40 ->  과제 bbb 완료  과제 aaa 재시작 10분 남음  과제 aaa 멈춤 10분 남음  과제 ccc 시작 10분 남음 \n",
      "시간: 12:50 ->  과제 ccc 완료  과제 aaa 재시작 10분 남음 \n",
      "시간: 13:00 ->  과제 aaa 완료 \n",
      "['bbb', 'ccc', 'aaa']\n"
     ]
    }
   ],
   "source": [
    "# 테스트 케이스\n",
    "plans1 = [[\"korean\", \"11:40\", \"30\"], [\"english\", \"12:10\", \"20\"], [\"math\", \"12:30\", \"40\"]]\n",
    "plans2 = [[\"science\", \"12:40\", \"50\"], [\"music\", \"12:20\", \"40\"], [\"history\", \"14:00\", \"30\"], [\"computer\", \"12:30\", \"100\"]]\n",
    "plans3 = [[\"aaa\", \"12:00\", \"20\"], [\"bbb\", \"12:10\", \"30\"], [\"ccc\", \"12:40\", \"10\"]]\n",
    "\n",
    "print(solution(plans1, True))\n",
    "print(solution(plans2, True))\n",
    "print(solution(plans3, True))"
   ]
  },
  {
   "attachments": {},
   "cell_type": "markdown",
   "metadata": {},
   "source": [
    "## 2번 문제\n",
    "\n",
    "제목 : [뒤에 있는 큰 수 찾기](https://school.programmers.co.kr/learn/courses/30/lessons/154539)\n",
    "<BR>레벨 : 2"
   ]
  },
  {
   "cell_type": "code",
   "execution_count": 31,
   "metadata": {},
   "outputs": [],
   "source": [
    "def solution(numbers):\n",
    "    # 뒷수를 저장할 리스트 생성\n",
    "    behinds = [0 for _ in range(len(numbers))]\n",
    "    # 가장 큰 수와 리스트 길이 저장\n",
    "    max_num = max(numbers)\n",
    "    len_nums = len(numbers)\n",
    "    # 현재인덱스 포함 뒤의 배열에서 가장 큰 수를 저장할 리스트 생성\n",
    "    behind_maxs = [0 for _ in range(len(numbers))]\n",
    "    \n",
    "    # 뒤에서부터 순회\n",
    "    for i in range(-1, -len_nums-1, -1):\n",
    "        # 가장 큰 수일 경우, 마지막 수일 경우 -1\n",
    "        if numbers[i] == max_num or i == -1:\n",
    "            behinds[i] = -1\n",
    "            behind_maxs[i] = numbers[i]\n",
    "            continue\n",
    "        # 현재 수가 뒤의 가장 큰 수보다 크면 -1\n",
    "        if numbers[i] > behind_maxs[i+1] and behind_maxs[i+1] != 0:\n",
    "            behinds[i] = -1\n",
    "            behind_maxs[i] = numbers[i]\n",
    "            continue\n",
    "        # 현재 인덱스에서 뒤로 순회하며 큰 수를 찾음\n",
    "        for j in range(len_nums+i+1, len_nums):\n",
    "            # 현재 수보다 큰 수를 찾으면 해당 수를 저장\n",
    "            if numbers[i] < numbers[j]:\n",
    "                behinds[i] = numbers[j]\n",
    "                behind_maxs[i] = behind_maxs[j]\n",
    "                break\n",
    "            # 현재 수와 같은 수를 찾으면 해당 수의 뒷수를 저장\n",
    "            if numbers[i] == numbers[j] and behinds[j] != 0:\n",
    "                behinds[i] = behinds[j]\n",
    "                behind_maxs[i] = behind_maxs[j]\n",
    "                break\n",
    "            # 현재 수보다 큰 뒷수를 찾으면 해당 뒷수를 저장\n",
    "            if numbers[i] < behinds[j]:\n",
    "                behinds[i] = behinds[j]\n",
    "                behind_maxs[i] = behind_maxs[j]\n",
    "                break\n",
    "            # 현재 수보다 큰 뒷수를 찾지 못하면 -1 저장\n",
    "            behinds[i] = -1\n",
    "    print('numbers\\t : ', numbers)\n",
    "    print('b_maxs\\t : ', behind_maxs)\n",
    "    print('behinds\\t : ', behinds)\n",
    "    print()\n",
    "    return behinds"
   ]
  },
  {
   "cell_type": "code",
   "execution_count": 32,
   "metadata": {},
   "outputs": [
    {
     "name": "stdout",
     "output_type": "stream",
     "text": [
      "numbers\t :  [2, 3, 3, 5]\n",
      "b_maxs\t :  [5, 5, 5, 5]\n",
      "behinds\t :  [3, 5, 5, -1]\n",
      "\n",
      "numbers\t :  [9, 1, 5, 3, 6, 2]\n",
      "b_maxs\t :  [9, 6, 6, 6, 6, 2]\n",
      "behinds\t :  [-1, 5, 6, 6, -1, -1]\n",
      "\n",
      "numbers\t :  [10, 9, 8, 7, 6, 5, 4, 3, 2, 1]\n",
      "b_maxs\t :  [10, 9, 8, 7, 6, 5, 4, 3, 2, 1]\n",
      "behinds\t :  [-1, -1, -1, -1, -1, -1, -1, -1, -1, -1]\n",
      "\n",
      "numbers\t :  [70, 64, 85, 30, 64, 86, 26, 85, 66, 94]\n",
      "b_maxs\t :  [94, 94, 94, 94, 94, 94, 94, 94, 94, 94]\n",
      "behinds\t :  [85, 85, 86, 64, 86, 94, 85, 94, 94, -1]\n",
      "\n",
      "numbers\t :  [52, 62, 78, 18, 32, 36, 22, 82, 8, 16]\n",
      "b_maxs\t :  [82, 82, 82, 82, 82, 82, 82, 82, 16, 16]\n",
      "behinds\t :  [62, 78, 82, 32, 36, 82, 82, -1, 16, -1]\n",
      "\n"
     ]
    },
    {
     "data": {
      "text/plain": [
       "[62, 78, 82, 32, 36, 82, 82, -1, 16, -1]"
      ]
     },
     "execution_count": 32,
     "metadata": {},
     "output_type": "execute_result"
    }
   ],
   "source": [
    "import random as r\n",
    "# 테스트 케이스\n",
    "numbers1 = [2, 3, 3, 5]\n",
    "numbers2 = [9, 1, 5, 3, 6, 2]\n",
    "numbers3 = [ v for v in range(10, 0, -1) ]\n",
    "numbers4 = [ r.randint(1, 100) for _ in range(10)]\n",
    "numbers5 = [ r.randint(1, 100) for _ in range(10)]\n",
    "\n",
    "solution(numbers1)\n",
    "solution(numbers2)\n",
    "solution(numbers3)\n",
    "solution(numbers4)\n",
    "solution(numbers5)"
   ]
  },
  {
   "cell_type": "code",
   "execution_count": 13,
   "metadata": {},
   "outputs": [
    {
     "name": "stdout",
     "output_type": "stream",
     "text": [
      "[10, 9, 8, 7, 6, 5, 4, 3, 2, 1]\n"
     ]
    },
    {
     "data": {
      "text/plain": [
       "[-1, -1, -1, -1, -1, -1, -1, -1, -1, -1]"
      ]
     },
     "execution_count": 13,
     "metadata": {},
     "output_type": "execute_result"
    }
   ],
   "source": []
  },
  {
   "attachments": {},
   "cell_type": "markdown",
   "metadata": {},
   "source": [
    "## 3번 문제\n",
    "\n",
    "제목 : [올바른 괄호](https://school.programmers.co.kr/learn/courses/30/lessons/12909)\n",
    "<BR>레벨 : 2"
   ]
  },
  {
   "cell_type": "code",
   "execution_count": 2,
   "metadata": {},
   "outputs": [],
   "source": [
    "def solution(s):    \n",
    "    # 문자열 길이가 홀수이거나, 첫번째 문자가 ')'이거나, 마지막 문자가 '('이면 False\n",
    "    if s[0] == ')' or s[-1] == '(' or len(s) % 2 != 0:\n",
    "        return False\n",
    "    \n",
    "    total = 0\n",
    "    \n",
    "    for v in s:\n",
    "        if v == '(':\n",
    "            total += 1\n",
    "        else:\n",
    "            total -= 1\n",
    "        \n",
    "        # ')'가 더 많아지면 False\n",
    "        if total < 0:\n",
    "            return False\n",
    "    \n",
    "    # '('와 ')'의 개수가 같지 않으면 False\n",
    "    if total != 0:\n",
    "        return False\n",
    "\n",
    "    return True"
   ]
  },
  {
   "cell_type": "code",
   "execution_count": 3,
   "metadata": {},
   "outputs": [
    {
     "name": "stdout",
     "output_type": "stream",
     "text": [
      "True\n",
      "True\n",
      "False\n",
      "False\n"
     ]
    }
   ],
   "source": [
    "# 테스트 케이스\n",
    "s1 = \"()()\"\n",
    "s2 = \"(())()\"\n",
    "s3 = \")()(\"\n",
    "s4 = \"(()(\"\n",
    "\n",
    "print(solution(s1))\n",
    "print(solution(s2))\n",
    "print(solution(s3))\n",
    "print(solution(s4))"
   ]
  },
  {
   "attachments": {},
   "cell_type": "markdown",
   "metadata": {},
   "source": [
    "## 4번 문제\n",
    "\n",
    "제목 : [H-Index](https://school.programmers.co.kr/learn/courses/30/lessons/42747)\n",
    "<BR>레벨 : 2"
   ]
  },
  {
   "cell_type": "code",
   "execution_count": 8,
   "metadata": {},
   "outputs": [],
   "source": [
    "def solution(citations):\n",
    "    answer = 0\n",
    "    \n",
    "    # 내림차순 정렬\n",
    "    citations.sort(reverse=True)\n",
    "    \n",
    "    # print(citations)\n",
    "    \n",
    "    # h-index의 최대값\n",
    "    max_h = 0\n",
    "    \n",
    "    for i, v in enumerate(citations):\n",
    "        # i편 이상이 i번 이상 인용되어야 하므로,\n",
    "        # i보다 v가(i번째 논문의 인용 횟수) 작으면,\n",
    "        # h-index는 i+1이 됨 (+1은 i가 0부터 시작하기 때문)\n",
    "        if i < v:\n",
    "            max_h = i+1\n",
    "    \n",
    "    # h-index가 논문의 개수보다 크면 논문의 개수를 반환\n",
    "    answer = min(max_h, len(citations))\n",
    "        \n",
    "    return answer"
   ]
  },
  {
   "cell_type": "code",
   "execution_count": 11,
   "metadata": {},
   "outputs": [
    {
     "name": "stdout",
     "output_type": "stream",
     "text": [
      "[6, 5, 3, 1, 0]\n",
      "3\n",
      "[6, 6, 6, 6, 4]\n",
      "4\n",
      "[1, 1, 1, 1, 1]\n",
      "1\n",
      "[2, 1, 1, 1, 1]\n",
      "1\n",
      "[2, 2, 1, 1, 1]\n",
      "2\n"
     ]
    }
   ],
   "source": [
    "# 테스트 케이스\n",
    "c1 = [3, 0, 6, 1, 5]\n",
    "c2 = [6, 6, 4, 6, 6]\n",
    "c3 = [1, 1, 1, 1, 1]\n",
    "c4 = [1, 1, 1, 1, 2]\n",
    "c5 = [1, 1, 1, 2, 2]\n",
    "\n",
    "print(solution(c1))\n",
    "print(solution(c2))\n",
    "print(solution(c3))\n",
    "print(solution(c4))\n",
    "print(solution(c5))"
   ]
  }
 ],
 "metadata": {
  "kernelspec": {
   "display_name": "base",
   "language": "python",
   "name": "python3"
  },
  "language_info": {
   "codemirror_mode": {
    "name": "ipython",
    "version": 3
   },
   "file_extension": ".py",
   "mimetype": "text/x-python",
   "name": "python",
   "nbconvert_exporter": "python",
   "pygments_lexer": "ipython3",
   "version": "3.10.9"
  },
  "orig_nbformat": 4
 },
 "nbformat": 4,
 "nbformat_minor": 2
}
